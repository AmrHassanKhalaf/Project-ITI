{
  "nbformat": 4,
  "nbformat_minor": 0,
  "metadata": {
    "colab": {
      "provenance": [],
      "include_colab_link": true
    },
    "kernelspec": {
      "name": "python3",
      "display_name": "Python 3"
    },
    "language_info": {
      "name": "python"
    }
  },
  "cells": [
    {
      "cell_type": "markdown",
      "metadata": {
        "id": "view-in-github",
        "colab_type": "text"
      },
      "source": [
        "<a href=\"https://colab.research.google.com/github/YoussefDiaa1/Project-ITI/blob/main/assigment_1.ipynb\" target=\"_parent\"><img src=\"https://colab.research.google.com/assets/colab-badge.svg\" alt=\"Open In Colab\"/></a>"
      ]
    },
    {
      "cell_type": "code",
      "execution_count": null,
      "metadata": {
        "colab": {
          "base_uri": "https://localhost:8080/"
        },
        "id": "TSKiX7YXK-Bw",
        "outputId": "1cd96973-2d17-4d35-ffba-23532fa12b5c"
      },
      "outputs": [
        {
          "output_type": "stream",
          "name": "stdout",
          "text": [
            "Hello World from Youssef Diaa\n"
          ]
        }
      ],
      "source": [
        "print(\"Hello World from Youssef Diaa\")"
      ]
    },
    {
      "cell_type": "code",
      "source": [
        "print(\"Hello World from Ahmed Nageh!\")"
      ],
      "metadata": {
        "id": "vPcv-TfrLhmj",
        "outputId": "d3bf1d56-4fb1-4599-880b-df9604dc8e99",
        "colab": {
          "base_uri": "https://localhost:8080/"
        }
      },
      "execution_count": null,
      "outputs": [
        {
          "output_type": "stream",
          "name": "stdout",
          "text": [
            "Hello World from Ahmed Nageh!\n"
          ]
        }
      ]
    },
    {
      "cell_type": "code",
      "source": [
        "print(\"Hello World from Alaa Faisal\")"
      ],
      "metadata": {
        "colab": {
          "base_uri": "https://localhost:8080/"
        },
        "id": "9yBdJZI5l1QN",
        "outputId": "3fae25c6-b82e-49a9-f36e-ae25dd828abf"
      },
      "execution_count": null,
      "outputs": [
        {
          "output_type": "stream",
          "name": "stdout",
          "text": [
            "Hello World from Alaa Faisal\n"
          ]
        }
      ]
    }
  ]
}