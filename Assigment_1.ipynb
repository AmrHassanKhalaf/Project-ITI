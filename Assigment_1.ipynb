{
  "nbformat": 4,
  "nbformat_minor": 0,
  "metadata": {
    "colab": {
      "provenance": [],
      "toc_visible": true,
      "name": "Assigment_1.ipynb",
      "include_colab_link": true
    },
    "kernelspec": {
      "name": "python3",
      "display_name": "Python 3"
    },
    "language_info": {
      "name": "python"
    }
  },
  "cells": [
    {
      "cell_type": "markdown",
      "metadata": {
        "id": "view-in-github",
        "colab_type": "text"
      },
      "source": [
        "<a href=\"https://colab.research.google.com/github/YoussefDiaa1/Project-ITI/blob/main/Assigment_1.ipynb\" target=\"_parent\"><img src=\"https://colab.research.google.com/assets/colab-badge.svg\" alt=\"Open In Colab\"/></a>"
      ]
    },
    {
      "cell_type": "code",
      "execution_count": 1,
      "metadata": {
        "colab": {
          "base_uri": "https://localhost:8080/"
        },
        "id": "TSKiX7YXK-Bw",
        "outputId": "bd996c7f-b792-47e6-f742-8d90ab1f0c15"
      },
      "outputs": [
        {
          "output_type": "stream",
          "name": "stdout",
          "text": [
            "Hello World from Youssef Diaa\n"
          ]
        }
      ],
      "source": [
        "print(\"Hello World from Youssef Diaa\")"
      ]
    },
    {
      "cell_type": "code",
      "source": [
        "print(\"Hello World from Ahmed Nageh!\")"
      ],
      "metadata": {
        "id": "vPcv-TfrLhmj",
        "outputId": "77932936-63e0-4ae1-f403-e8d6278597c2",
        "colab": {
          "base_uri": "https://localhost:8080/"
        }
      },
      "execution_count": 3,
      "outputs": [
        {
          "output_type": "stream",
          "name": "stdout",
          "text": [
            "Hello World from Ahmed Nageh!\n"
          ]
        }
      ]
    },
    {
      "cell_type": "code",
      "source": [
        "print(\"Hello World from Alaa Faisal\")"
      ],
      "metadata": {
        "colab": {
          "base_uri": "https://localhost:8080/"
        },
        "id": "TurljfPgnYJp",
        "outputId": "dbb9c8c4-a304-4435-9dd8-cb6204588792"
      },
      "execution_count": 4,
      "outputs": [
        {
          "output_type": "stream",
          "name": "stdout",
          "text": [
            "Hello World from Alaa Faisal\n"
          ]
        }
      ]
    },
    {
      "cell_type": "code",
      "source": [
        "print(\"Hello World from Walaa Magdyy\")"
      ],
      "metadata": {
        "colab": {
          "base_uri": "https://localhost:8080/"
        },
        "id": "mF-jVaWWsJNj",
        "outputId": "f122eb25-5f07-413b-af32-deb9979c1756"
      },
      "execution_count": 5,
      "outputs": [
        {
          "output_type": "stream",
          "name": "stdout",
          "text": [
            "Hello World from Walaa Magdyy\n"
          ]
        }
      ]
    },
    {
      "cell_type": "code",
      "source": [
        "print(\"Hello World from Youmna Ayman\")"
      ],
      "metadata": {
        "id": "EmN7icvmsP-g",
        "outputId": "22fdfd02-80af-4dee-ab1a-b5804fbe43b5",
        "colab": {
          "base_uri": "https://localhost:8080/"
        }
      },
      "execution_count": 6,
      "outputs": [
        {
          "output_type": "stream",
          "name": "stdout",
          "text": [
            "Hello World from Youmna Ayman\n"
          ]
        }
      ]
    },
    {
      "cell_type": "code",
      "source": [
        "print(\"Hello World from Amr Hassan\")"
      ],
      "metadata": {
        "id": "RYWhzGbju-vY",
        "outputId": "7446fa55-9e54-428f-b767-31a4387f2c59",
        "colab": {
          "base_uri": "https://localhost:8080/"
        }
      },
      "execution_count": 8,
      "outputs": [
        {
          "output_type": "stream",
          "name": "stdout",
          "text": [
            "Hello World from Amr Hassan\n"
          ]
        }
      ]
    },
    {
      "cell_type": "code",
      "source": [],
      "metadata": {
        "id": "lgP4amyQuqm0"
      },
      "execution_count": 7,
      "outputs": []
    }
  ]
}