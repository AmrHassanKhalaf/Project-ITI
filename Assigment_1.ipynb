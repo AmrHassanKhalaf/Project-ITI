{
  "nbformat": 4,
  "nbformat_minor": 0,
  "metadata": {
    "colab": {
      "provenance": [],
      "toc_visible": true,
      "name": "Assigment_1.ipynb",
      "include_colab_link": true
    },
    "kernelspec": {
      "name": "python3",
      "display_name": "Python 3"
    },
    "language_info": {
      "name": "python"
    }
  },
  "cells": [
    {
      "cell_type": "markdown",
      "metadata": {
        "id": "view-in-github",
        "colab_type": "text"
      },
      "source": [
        "<a href=\"https://colab.research.google.com/github/YoussefDiaa1/Project-ITI/blob/main/Assigment_1.ipynb\" target=\"_parent\"><img src=\"https://colab.research.google.com/assets/colab-badge.svg\" alt=\"Open In Colab\"/></a>"
      ]
    },
    {
      "cell_type": "code",
      "execution_count": null,
      "metadata": {
        "colab": {
          "base_uri": "https://localhost:8080/"
        },
        "id": "TSKiX7YXK-Bw",
        "outputId": "85fc49a1-2727-4b29-b6ae-feb3d2f010b2"
      },
      "outputs": [
        {
          "output_type": "stream",
          "name": "stdout",
          "text": [
            "Hello World from Youssef Diaa\n"
          ]
        }
      ],
      "source": [
        "print(\"Hello World from Youssef Diaa\")"
      ]
    },
    {
      "cell_type": "code",
      "source": [
        "print(\"Hello World from Ahmed Nageh!\")"
      ],
      "metadata": {
        "id": "vPcv-TfrLhmj",
        "outputId": "341f6944-1c8f-4a35-c834-afd6b8ac41b8",
        "colab": {
          "base_uri": "https://localhost:8080/"
        }
      },
      "execution_count": null,
      "outputs": [
        {
          "output_type": "stream",
          "name": "stdout",
          "text": [
            "Hello World from Ahmed Nageh!\n"
          ]
        }
      ]
    },
    {
      "cell_type": "code",
      "source": [
        "print(\"Hello World from Alaa Faisal\")"
      ],
      "metadata": {
        "colab": {
          "base_uri": "https://localhost:8080/"
        },
        "id": "TurljfPgnYJp",
        "outputId": "2d839d4a-217a-4c40-9ce9-2b468fcec6cc"
      },
      "execution_count": null,
      "outputs": [
        {
          "output_type": "stream",
          "name": "stdout",
          "text": [
            "Hello World from Alaa Faisal\n"
          ]
        }
      ]
    }
  ]
}