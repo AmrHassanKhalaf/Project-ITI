{
  "nbformat": 4,
  "nbformat_minor": 0,
  "metadata": {
    "colab": {
      "provenance": [],
      "authorship_tag": "ABX9TyMKDKj9K2II2VYVE+OEJ6Dt",
      "include_colab_link": true
    },
    "kernelspec": {
      "name": "python3",
      "display_name": "Python 3"
    },
    "language_info": {
      "name": "python"
    }
  },
  "cells": [
    {
      "cell_type": "markdown",
      "metadata": {
        "id": "view-in-github",
        "colab_type": "text"
      },
      "source": [
        "<a href=\"https://colab.research.google.com/github/AmrHassanKhalaf/Project-ITI/blob/main/Deep_models.ipynb\" target=\"_parent\"><img src=\"https://colab.research.google.com/assets/colab-badge.svg\" alt=\"Open In Colab\"/></a>"
      ]
    },
    {
      "cell_type": "code",
      "execution_count": 5,
      "metadata": {
        "colab": {
          "base_uri": "https://localhost:8080/"
        },
        "id": "iYf6ZGiKCoWL",
        "outputId": "6cec5cae-1252-4adc-cebd-21ea6a4a5c0c"
      },
      "outputs": [
        {
          "output_type": "stream",
          "name": "stdout",
          "text": [
            "Cloning into 'Project-ITI'...\n",
            "remote: Enumerating objects: 96, done.\u001b[K\n",
            "remote: Counting objects: 100% (96/96), done.\u001b[K\n",
            "remote: Compressing objects: 100% (94/94), done.\u001b[K\n",
            "remote: Total 96 (delta 44), reused 0 (delta 0), pack-reused 0 (from 0)\u001b[K\n",
            "Receiving objects: 100% (96/96), 1.91 MiB | 3.54 MiB/s, done.\n",
            "Resolving deltas: 100% (44/44), done.\n",
            "/content/Project-ITI\n"
          ]
        }
      ],
      "source": [
        "# 1) امسح أي نسخة قديمة\n",
        "!rm -rf /content/Project-ITI\n",
        "\n",
        "# 2) اعمل clone للريبو\n",
        "!git clone https://github.com/YoussefDiaa1/Project-ITI.git\n",
        "\n",
        "# 3) ادخل المجلد\n",
        "%cd /content/Project-ITI\n"
      ]
    },
    {
      "cell_type": "code",
      "source": [
        "import os\n",
        "import time\n",
        "\n",
        "repo_path = \"/content/Project-ITI\"\n",
        "os.chdir(repo_path)\n",
        "\n",
        "while True:\n",
        "    os.system(\"git add .\")\n",
        "    os.system('git commit -m \"Auto-save from Colab\"')\n",
        "    os.system(\"git push origin main\")  # أو master حسب الفرع\n",
        "    time.sleep(300)\n"
      ],
      "metadata": {
        "id": "L_NeSUzqCpTl"
      },
      "execution_count": null,
      "outputs": []
    },
    {
      "cell_type": "code",
      "source": [],
      "metadata": {
        "id": "Z9qZvgziDOzg"
      },
      "execution_count": null,
      "outputs": []
    }
  ]
}